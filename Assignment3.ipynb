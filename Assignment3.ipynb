{
 "cells": [
  {
   "cell_type": "code",
   "execution_count": null,
   "id": "a680f619-0bc5-449d-acc7-8c605077d867",
   "metadata": {},
   "outputs": [],
   "source": [
    "import seaborn as sns\n",
    "import matplotlib.pyplot as plt\n",
    "\n",
    "# Violin Plot\n",
    "plt.figure(figsize=(12, 6))\n",
    "sns.violinplot(x='species', y='sepal length (cm)', data=iris_df)\n",
    "plt.title('Violin Plot of Sepal Length by Species')\n",
    "plt.show()\n",
    "\n",
    "# Box Plot\n",
    "plt.figure(figsize=(12, 6))\n",
    "sns.boxplot(x='species', y='petal length (cm)', data=iris_df)\n",
    "plt.title('Box Plot of Petal Length by Species')\n",
    "plt.show()\n"
   ]
  },
  {
   "cell_type": "code",
   "execution_count": null,
   "id": "52fb5a5d-f07a-4683-830c-b0151b9a6142",
   "metadata": {},
   "outputs": [],
   "source": [
    "import seaborn as sns\n",
    "import matplotlib.pyplot as plt\n",
    "\n",
    "plt.figure(figsize=(12, 6))\n",
    "sns.violinplot(x='species', y='sepal length (cm)', data=iris_df)\n",
    "plt.title('Violin Plot of Sepal Length by Species')\n",
    "plt.show()\n"
   ]
  },
  {
   "cell_type": "code",
   "execution_count": null,
   "id": "5e707425-af98-4c18-9d49-e0662658fb94",
   "metadata": {},
   "outputs": [],
   "source": [
    "plt.figure(figsize=(12, 6))\n",
    "sns.boxplot(x='species', y='petal length (cm)', data=iris_df)\n",
    "plt.title('Box Plot of Petal Length by Species')\n",
    "plt.show()\n"
   ]
  }
 ],
 "metadata": {
  "kernelspec": {
   "display_name": "Python 3 (ipykernel)",
   "language": "python",
   "name": "python3"
  },
  "language_info": {
   "codemirror_mode": {
    "name": "ipython",
    "version": 3
   },
   "file_extension": ".py",
   "mimetype": "text/x-python",
   "name": "python",
   "nbconvert_exporter": "python",
   "pygments_lexer": "ipython3",
   "version": "3.11.2"
  }
 },
 "nbformat": 4,
 "nbformat_minor": 5
}
